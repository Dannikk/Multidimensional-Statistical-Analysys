{
 "cells": [
  {
   "cell_type": "markdown",
   "id": "2253f6a7",
   "metadata": {},
   "source": [
    "## Постановка задачи:\n",
    "\n",
    "Требуется построить и протестировать классификатор многомерных объектов на основе обучающей выборки - модельные данные и данные из репозитория.\n",
    "___\n",
    "\n",
    "## Реализиция: модельные данные\n",
    "\n",
    "### Построение дискриминантной функции по обучающей выборке, классификация тестовой выборки\n",
    "\n",
    "Бинарный классификатор должен быть протестирован для двух случаев: хорошо и плохо разделенные данные, распределенные по закону многомерного нормального распределения размерности $p=3$.\n",
    "\n",
    "Для каждого случая по отдельности должны быть заданы различные векторы средних и равные матрицы ковариаций. Хорошо и плохо разделенные данные будем выбирать, меняя матрицу ковариций.\n",
    "\n",
    "Хорошо разделенные данные:\n",
    "\n",
    "ОВ1: $$x \\sim N(\\mu^{(1)}, \\Sigma_{good})$$ ОВ2: $$x \\sim N(\\mu^{(2)}, \\Sigma_{good})$$\n",
    "\n",
    "Плохо разделенные данные:\n",
    "\n",
    "ОВ1: $$x \\sim N(\\mu^{(1)}, \\Sigma_{bad})$$ ОВ2: $$x \\sim N(\\mu^{(2)}, \\Sigma_{bad})$$\n",
    "\n",
    "---\n",
    "\n",
    "Подключим необходимые для исследования пакеты:"
   ]
  },
  {
   "cell_type": "code",
   "execution_count": 3,
   "id": "f143c763",
   "metadata": {},
   "outputs": [],
   "source": [
    "from scipy.stats import multivariate_normal, norm\n",
    "import matplotlib.pyplot as plt\n",
    "import numpy as np\n",
    "from sklearn.metrics import confusion_matrix, ConfusionMatrixDisplay"
   ]
  },
  {
   "cell_type": "markdown",
   "id": "dd3e2e5a",
   "metadata": {},
   "source": [
    "Зададим размер обучающей выборки $n_1=1000$, $n_2=1000$, векторы средних $m1$ и $m2$, матрицы ковариаций для хорошо и плохо разделимых данных - $s_{good}$ и $s_{bad}$ соответственно."
   ]
  },
  {
   "cell_type": "code",
   "execution_count": null,
   "id": "0e3de9ce",
   "metadata": {},
   "outputs": [],
   "source": [
    "n = 2000\n",
    "\n",
    "m1 = np.array([1, 2, 3])\n",
    "m2 = np.array([3, 5, -1])\n",
    "\n",
    "s_good = np.array([[1.2, 0, -1],\n",
    "              [0, 3, 0.5],\n",
    "              [-1, 0.5, 4]])\n",
    "s_bad = (s_good+1.5)*3\n",
    "\n",
    "q1 = 0.5"
   ]
  },
  {
   "cell_type": "markdown",
   "id": "918a7bd2",
   "metadata": {},
   "source": [
    "Создадим набор необходимых функций для построения классификатора. Для большего удобства функции были \"упакованы\" в класс **ModelResearch**.\n",
    "\n",
    "Основной для классификации является функция **calc_estimates**, в ней рассчитываются оценки средниx\n",
    "\n",
    "$$\\mu^{(k)}\\to \\hat{\\mu}^{(k)}, \\qquad\\ \\hat{\\mu}^{(k)}_j=\\cfrac{1}{n_k}\\sum_{i=1}^{n_k} x_{ij},\\quad\\ k=1,2$$\n",
    "\n",
    "и оценка матрицы ковариаций\n",
    "\n",
    "$$S^{(k)}=(s^{(k)}_{lj}),\\quad\\ l,j=\\overline{1,3}, k=1,2$$\n",
    "$$s^{(k)}_{lj}=\\cfrac{1}{n_k-1} \\sum_{i=1}^{n_k} (x^{(k)}_{il} - \\hat{\\mu}^{(k)}_l) (x^{(k)}_{ij}-\\hat{\\mu}^{(k)}_j), \\quad\\ k=1,2 $$\n",
    "\n",
    "$$\\Sigma \\to S, \\qquad\\ S=\\cfrac{1}{n_1+n_2-2}\\lbrack (n_1-1)S^{(1)} + (n_2-1)S^{(2)}\\rbrack$$\n",
    "\n",
    "оценка вектора $\\alpha$:\n",
    "\n",
    "$$\\alpha \\to \\hat{\\alpha}=\\mathbf{a}, \\qquad\\ \\alpha = \\Sigma^{-1}(\\mu^{(1)} - \\mu^{(2)}) \\to \\mathbf{a} = S^{-1}(\\hat{\\mu}^{(1)} - \\hat{\\mu}^{(2)})$$\n",
    "\n",
    "а также оценки средних дискриминатной функции\n",
    "\n",
    "$$\\xi_k \\to \\overline{z}^{(k)}=\\langle \\hat{\\mu}^{(k)}, \\mathbf{a} \\rangle, \\quad\\ k=1,2$$\n",
    "\n",
    "и дисперсии\n",
    "\n",
    "$$\\sigma^2_z \\to s^2_z=\\sum^{3}_{l=1}\\sum^{3}_{j=1}a_l s_{lj} a_j$$"
   ]
  },
  {
   "cell_type": "code",
   "execution_count": null,
   "id": "51d1306c",
   "metadata": {},
   "outputs": [],
   "source": [
    "class ModelResearch():\n",
    "    def __init__(self, mean1, mean2, cov, q1, size, test_set=None):\n",
    "        self.sample1 = []\n",
    "        self.sample2 = []\n",
    "        self.m1 = mean1\n",
    "        self.m2 = mean2\n",
    "        self.cov = cov\n",
    "        self.q1 = q1\n",
    "        self.q2 = 1 - q1\n",
    "        self.n1 = int(size*q1)\n",
    "        self.n2 = size - self.n1\n",
    "        self.test_set = test_set        \n",
    "        \n",
    "        self.m1_ = []\n",
    "        self.m2_ = []\n",
    "        self.cov_ = []\n",
    "        self.alpha = []\n",
    "        \n",
    "        self.mz1_ = 0\n",
    "        self.mz2_ = 0\n",
    "        self.z_var = 0\n",
    "    \n",
    "    def generate_sample(self):\n",
    "        self.sample1 = multivariate_normal(mean=self.m1, cov=self.cov).rvs(self.n1, random_state=123)\n",
    "        self.sample2 = multivariate_normal(mean=self.m2, cov=self.cov).rvs(self.n2, random_state=123)\n",
    "        \n",
    "    def calc_estimates(self):\n",
    "#         samples mean\n",
    "        self.m1_ = np.mean(self.sample1, axis=0)\n",
    "        self.m2_ = np.mean(self.sample2, axis=0)        \n",
    "#         specify covariance matrix for samples\n",
    "#         assuming that cov1 approximately equal cov2\n",
    "        self.cov_ = (np.cov(self.sample1.T) + np.cov(self.sample2.T)) / 2\n",
    "        \n",
    "        self.alpha = np.linalg.inv(self.cov_) @ (self.m1_-self.m2_)\n",
    "#         mean of discriminant function\n",
    "        self.mz1_ = np.dot(self.alpha, self.m1_)\n",
    "        self.mz2_ = np.dot(self.alpha, self.m2_)\n",
    "#         variance of discriminant function\n",
    "        self.z_var = self.alpha @ self.cov_ @ self.alpha\n",
    "\n",
    "    def makhalanobis(self, unbiased=False):        \n",
    "        makh = (self.mz1_-self.mz2_)**2 / self.z_var\n",
    "        if unbiased:\n",
    "            p = len(self.m1)\n",
    "            makh = ((self.n1 + self.n2 - p - 3)/\n",
    "                    (self.n1 + self.n2 - 2)*makh - p*(1/self.n1 + 1/self.n2))**0.5\n",
    "        return makh\n",
    "    \n",
    "    def calc_errors(self, D):\n",
    "        K = np.log(self.q2 / self.q1)\n",
    "        F = lambda x: norm.cdf(x)\n",
    "        return {\"p21\": F((K - 0.5*D**2)/D), \"p12\": F((-K - 0.5*D**2)/D)}\n",
    "    \n",
    "    def specify_test_set(self, create_new=False):\n",
    "        if create_new:\n",
    "            print(\"Creating test set\")\n",
    "            test1 = multivariate_normal(mean=self.m1, cov=self.cov).rvs(self.n1, random_state=1234)\n",
    "            test2 = multivariate_normal(mean=self.m2, cov=self.cov).rvs(self.n2, random_state=1234)\n",
    "        else:\n",
    "            test1 = self.sample1\n",
    "            test2 = self.sample2\n",
    "        self.test_set = np.vstack([test1, test2])\n",
    "        return np.hstack([np.zeros(self.n1), np.ones(self.n2)])\n",
    "    \n",
    "    def predict(self, test_set=None):\n",
    "        if not test_set:\n",
    "            test_set = self.test_set\n",
    "        if test_set is None:\n",
    "            print(\"Warning!\\n\\tTest set not specified!\")\n",
    "            return \n",
    "#         (\\ksi1 + \\ksi2) / 2\n",
    "        threshold = (self.mz1_ + self.mz2_) / 2\n",
    "        lnq1q2 = np.log(self.q2 / self.q1)\n",
    "        threshold += lnq1q2\n",
    "        predict = []\n",
    "        for instance in test_set:\n",
    "            if np.dot(self.alpha, instance) >= threshold:\n",
    "                predict.append(0)\n",
    "            else:\n",
    "                predict.append(1)\n",
    "        return predict"
   ]
  },
  {
   "cell_type": "markdown",
   "id": "65229373",
   "metadata": {},
   "source": [
    "Создадим классы исследований. Сгенерируем обучающие выборки и тестовые выборки. Размер тестовой выборки $n_т=2000$, выборка содержит равное число элементо из 1 и 2 классов."
   ]
  },
  {
   "cell_type": "code",
   "execution_count": null,
   "id": "f85b1039",
   "metadata": {},
   "outputs": [],
   "source": [
    "R_good = ModelResearch(m1, m2, s_good, q1, n)\n",
    "R_bad = ModelResearch(m1, m2, s_bad, q1, n)\n",
    "R_good.generate_sample()\n",
    "R_bad.generate_sample()\n",
    "true_good = R_good.specify_test_set(create_new=True)\n",
    "true_bad = R_bad.specify_test_set(create_new=True)"
   ]
  },
  {
   "cell_type": "markdown",
   "id": "487cc6b0",
   "metadata": {},
   "source": [
    "Рассчитаем необходимые для классификатора величины."
   ]
  },
  {
   "cell_type": "code",
   "execution_count": null,
   "id": "f2fe5e0f",
   "metadata": {},
   "outputs": [],
   "source": [
    "R_good.calc_estimates()\n",
    "R_bad.calc_estimates()"
   ]
  },
  {
   "cell_type": "markdown",
   "id": "daa0186b",
   "metadata": {},
   "source": [
    "Получим предсказания следующим образом:\n",
    "\n",
    "Если $$\\sum_{j=1}^{p}{a_j x_j} = \\langle \\mathbf{a}, x \\rangle \\geq \\frac{\\overline{z}^{(1)}+\\overline{z}^{(2)}}{2} + ln\\frac{q_2}{q_1}$$ то относим экземпляр тестовой выборки к 1 классу - иначе к 2 классу.\n",
    "\n",
    "$q_1$, $q_2$ - отсносительная частота 1 и 2 класса в обучающей выборке. В данном случае $q_1=q_2=0.5$."
   ]
  },
  {
   "cell_type": "code",
   "execution_count": null,
   "id": "36b1e254",
   "metadata": {
    "scrolled": false
   },
   "outputs": [],
   "source": [
    "predict_good = R_good.predict()\n",
    "predict_bad = R_bad.predict()"
   ]
  },
  {
   "cell_type": "markdown",
   "id": "33acdcdb",
   "metadata": {},
   "source": [
    "Рассчитаем эмпирическую вероятность ошибочной классификации:\n",
    "\n",
    "$$P(1|2) = \\frac{m_2}{n_2}$$\n",
    "$m_2$ - количество элементов 2 класса, которых классификатор определил как 1 класс\n",
    "\n",
    "$$P(2|1) = \\frac{m_1}{n_1}$$\n",
    "$m_1$ - количество элементов 1 класса, которых классификатор определил как 2 класс\n",
    "\n",
    "И построим четырехпольную таблицу сопряженности."
   ]
  },
  {
   "cell_type": "code",
   "execution_count": null,
   "id": "8fec198e",
   "metadata": {},
   "outputs": [],
   "source": [
    "cm_good = confusion_matrix(true_good, predict_good)\n",
    "cm_bad = confusion_matrix(true_bad, predict_bad)\n",
    "\n",
    "fig, ax = plt.subplots(1, 2, figsize=(12, 6))\n",
    "ConfusionMatrixDisplay(cm_good, display_labels=[\"1\", \"2\"]).plot(ax=ax[0])\n",
    "ax[0].set_title(\"Хорошо разделенные данные\")\n",
    "ConfusionMatrixDisplay(cm_bad, display_labels=[\"1\", \"2\"]).plot(ax=ax[1])\n",
    "ax[1].set_title(\"Плохо разделенные данные\")\n",
    "fig.tight_layout()\n",
    "\n",
    "_, m21, m12, _ = cm_good.ravel()\n",
    "print(f\"Хорошо разделенные данные: \\n\\tP(1|2) = {m12 / R_good.n2}, P(2|1) = {m21 / R_good.n1}\")\n",
    "\n",
    "_, m21, m12, _ = cm_bad.ravel()\n",
    "print(f\"Плохо разделенные данные: \\n\\tP(1|2) = {m12 / R_bad.n2}, P(2|1) = {m21 / R_bad.n1}\")"
   ]
  },
  {
   "cell_type": "markdown",
   "id": "7f5f7e3e",
   "metadata": {},
   "source": [
    "### Исследование классификации исходной обучающей выборки\n",
    "\n",
    "Укажем тестовую выборку (без аргумента *create_new=True* в методе **specify_test_set()** в качестве классифицируемых указываются исходные обучающие выборки)"
   ]
  },
  {
   "cell_type": "code",
   "execution_count": null,
   "id": "4fb63ab1",
   "metadata": {},
   "outputs": [],
   "source": [
    "true_good = R_good.specify_test_set()\n",
    "true_bad = R_bad.specify_test_set()\n",
    "predict_good = R_good.predict()\n",
    "predict_bad = R_bad.predict()"
   ]
  },
  {
   "cell_type": "markdown",
   "id": "20e320a6",
   "metadata": {},
   "source": [
    "Рассчитаем оценки вероятностей ошибочной классификации:\n",
    "\n",
    "$$\\hat{P}(1|2) = \\frac{m_2}{n_2}$$\n",
    "$m_2$ - количество элементов 2 класса, которых классификатор определил как 1 класс\n",
    "\n",
    "$$\\hat{P}(2|1) = \\frac{m_1}{n_1}$$\n",
    "$m_1$ - количество элементов 1 класса, которых классификатор определил как 2 класс\n",
    "\n",
    "И построим четырехпольную таблицу сопряженности."
   ]
  },
  {
   "cell_type": "code",
   "execution_count": null,
   "id": "5eef52d7",
   "metadata": {
    "scrolled": false
   },
   "outputs": [],
   "source": [
    "cm_good = confusion_matrix(true_good, predict_good)\n",
    "cm_bad = confusion_matrix(true_bad, predict_bad)\n",
    "\n",
    "fig, ax = plt.subplots(1, 2, figsize=(12, 6))\n",
    "ConfusionMatrixDisplay(cm_good, display_labels=[\"1\", \"2\"]).plot(ax=ax[0])\n",
    "ax[0].set_title(\"Хорошо разделенные данные\")\n",
    "ConfusionMatrixDisplay(cm_bad, display_labels=[\"1\", \"2\"]).plot(ax=ax[1])\n",
    "ax[1].set_title(\"Плохо разделенные данные\")\n",
    "fig.tight_layout()\n",
    "\n",
    "_, m21, m12, _ = cm_good.ravel()\n",
    "print(f\"Хорошо разделенные данные: \\n\\tP(1|2) = {m12 / R_good.n2}, P(2|1) = {m21 / R_good.n1}\")\n",
    "\n",
    "_, m21, m12, _ = cm_bad.ravel()\n",
    "print(f\"Плохо разделенные данные: \\n\\tP(1|2) = {m12 / R_bad.n2}, P(2|1) = {m21 / R_bad.n1}\")"
   ]
  },
  {
   "cell_type": "markdown",
   "id": "3939c5bf",
   "metadata": {},
   "source": [
    "Получим несмещенную оценку расстояния Махаланобиса:\n",
    "\n",
    "$$D^2_н = \\frac{n_1+n_2-p-3}{n_1+n_2-2}D^2-p(\\frac{1}{n_1}+\\frac{1}{n_2}), \\quad\\ p=3$$\n",
    "\n",
    "гдe $$D^2 = \\frac{(\\overline{z}^{(1)} - \\overline{z}^{(2)})^2}{s_z^2}$$\n",
    "\n",
    "И оценки вероятностей ошибочной классификации:\n",
    "\n",
    "$$\\hat{P}(2|1) = Ф\\Bigg(\\cfrac{K-\\frac{1}{2}D_н^2}{D_н}\\Bigg) $$\n",
    "\n",
    "$$\\hat{P}(1|2) = Ф\\Bigg(\\cfrac{-K-\\frac{1}{2}D_н^2}{D_н}\\Bigg)$$\n",
    "\n",
    "$$Ф(y)=\\cfrac{1}{\\sqrt{2\\pi}}\\int\\limits_{-\\infty}^{y}e^{-\\frac{t^2}{2}}dt$$\n",
    "\n",
    "$$K=ln\\bigg( \\cfrac{q_2 c(1|2)}{q_1 c(2|1)} \\bigg)$$\n",
    "\n",
    "Где $c(1|2), c(2|1)$ - стоимости ошибочной классификации\n",
    "\n",
    "В нашем случае $q_1=q_2=0.5$, а $c(1|2)=c(2|1)$ так как задача не предполагает выделения важности конкретной ошибки. Следовательно $K=0$."
   ]
  },
  {
   "cell_type": "code",
   "execution_count": null,
   "id": "b6eb0498",
   "metadata": {},
   "outputs": [],
   "source": [
    "print(\"Хорошо разделенные данные:\")\n",
    "makh_good = R_good.makhalanobis(unbiased=True)\n",
    "errors = R_good.calc_errors(makh_good)\n",
    "print(f\"\\tРасстояние Махаланобиса: {round(makh_good, 3)}\",)\n",
    "print(f\"\\tОценки ошибочной классификации: P(2|1) = {round(errors['p21'], 3)}\\t P(1|2) = {round(errors['p12'], 3)}\")\n",
    "print()\n",
    "print(\"Плохо разделенные данные:\")\n",
    "makh_bad = R_bad.makhalanobis(unbiased=True)\n",
    "errors = R_bad.calc_errors(makh_bad)\n",
    "print(f\"\\tРасстояние Махаланобиса: {round(makh_bad, 3)}\")\n",
    "print(f\"\\tОценки ошибочной классификации: P(2|1) = {round(errors['p21'], 3)}\\t P(1|2) = {round(errors['p12'], 3)}\")"
   ]
  },
  {
   "cell_type": "markdown",
   "id": "81d60205",
   "metadata": {},
   "source": [
    "Заметим, что и для тестовой выборки, и для обучающих данных, классикация хорошо разделенных данных получается качественнее - эмипирическая вероятность ошибочной классификации и ее оценка в обоих случаях ниже нежели в случае плохо разделенных данных.\n",
    "\n",
    "Что и требовалось ожидать - расстояние Махалонобиса и оценки вероятностей ошибочной классификации больше в случае плохо разделенных данных"
   ]
  },
  {
   "cell_type": "markdown",
   "id": "10ad2590",
   "metadata": {},
   "source": [
    "## Реализация: данные из репозитория\n",
    "\n",
    "---\n",
    "\n",
    "### Построение дискриминантной функции по обучающей выборке, классификация тестовой выборки"
   ]
  },
  {
   "cell_type": "code",
   "execution_count": 1,
   "id": "eae16910",
   "metadata": {},
   "outputs": [],
   "source": [
    "class RepoResearch:\n",
    "    def __init__(self, x, y, train_coef):\n",
    "        logging = True\n",
    "        self.X = x\n",
    "        self.Y = y\n",
    "        \n",
    "        self.sample1 = self.X[self.Y == 1]\n",
    "        self.sample2 = self.X[self.Y == 2]\n",
    "        \n",
    "        size1 = len(self.sample1)\n",
    "        size2 = len(self.sample2)\n",
    "        if logging:\n",
    "            print(f\"First: {size1}, second: {size2}\")\n",
    "            \n",
    "        self.train1 = self.sample1[:int(train_coef*size1)]\n",
    "        self.train2 = self.sample2[:int(train_coef*size2)]\n",
    "        self.train_trueY = np.hstack([np.ones(len(self.train1)), np.full(len(self.train2), 2)])\n",
    "        self.train_set = np.vstack([self.train1, self.train2])\n",
    "        self.train_n1 = len(self.train1)\n",
    "        self.train_n2 = len(self.train2)\n",
    "        \n",
    "        self.test1 = self.sample1[int(train_coef*size1):]\n",
    "        self.test2 = self.sample2[int(train_coef*size2):]\n",
    "        # true targets\n",
    "        self.test_trueY = np.hstack([np.ones(len(self.test1)), np.full(len(self.test2), 2)])\n",
    "        self.test_set = np.vstack([self.test1, self.test2])\n",
    "        self.test_n1 = len(self.test1)\n",
    "        self.test_n2 = len(self.test2)\n",
    "        \n",
    "        if logging:\n",
    "            print(f\"Train: 1: {len(self.train1)}, 2: {len(self.train2)}\")\n",
    "            print(f\"Test: 1: {len(self.test1)}, 2: {len(self.test2)}\")\n",
    "        \n",
    "        self.q1 = len(self.train1) / (len(self.train1) + len(self.train2))\n",
    "        self.q2 = 1-self.q1\n",
    "        \n",
    "        if logging:\n",
    "            print(f\"q1 = {self.q1}, q2 = {self.q2}\")\n",
    "        \n",
    "    def calc_estimates(self):\n",
    "#         samples mean\n",
    "        self.m1_ = np.mean(self.train1, axis=0)\n",
    "        self.m2_ = np.mean(self.train2, axis=0)\n",
    "        \n",
    "#         specify covariance matrix for samples\n",
    "#         assuming that cov1 approximately equal cov2\n",
    "        self.cov_ = ((len(self.train1)-1)*np.cov(self.train1.T) + (len(self.train2)-1)*np.cov(self.train2.T)) / (len(self.train1) + len(self.train2) - 2)\n",
    "        \n",
    "        self.alpha = np.linalg.inv(self.cov_) @ (self.m1_-self.m2_)\n",
    "#         mean of discriminant function\n",
    "        self.mz1_ = np.dot(self.alpha, self.m1_)\n",
    "        self.mz2_ = np.dot(self.alpha, self.m2_)\n",
    "#         variance of discriminant function\n",
    "        self.z_var = self.alpha @ self.cov_ @ self.alpha\n",
    "    \n",
    "    def makhalanobis(self, unbiased=False):        \n",
    "        makh = (self.mz1_-self.mz2_)**2 / self.z_var\n",
    "        if unbiased:\n",
    "            p = len(self.m1_)\n",
    "            n1 = self.train_n1\n",
    "            n2 = self.train_n2\n",
    "            makh = ((n1 + n2 - p - 3) / (n1 + n2 - 2)*makh - p*(1/n1 + 1/n2))**0.5\n",
    "        return makh\n",
    "    \n",
    "    def calc_errors(self, D):\n",
    "        K = np.log(self.q2 / self.q1)\n",
    "        F = lambda x: norm.cdf(x)\n",
    "        return {\"p21\": F((K - 0.5*D**2)/D), \"p12\": F((-K - 0.5*D**2)/D)}\n",
    "    \n",
    "        \n",
    "    def predict(self, predict_test_set=True):\n",
    "        if predict_test_set:\n",
    "            predict_set = self.test_set\n",
    "        else:\n",
    "            predict_set = self.train_set\n",
    "#         (\\ksi1 + \\ksi2) / 2\n",
    "        threshold = (self.mz1_ + self.mz2_) / 2\n",
    "        lnq1q2 = np.log(self.q2 / self.q1)\n",
    "        threshold += lnq1q2\n",
    "        predict = []\n",
    "        for instance in predict_set:\n",
    "            if np.dot(self.alpha, instance) >= threshold:\n",
    "                predict.append(1)\n",
    "            else:\n",
    "                predict.append(2)\n",
    "        return predict\n",
    "        "
   ]
  },
  {
   "cell_type": "code",
   "execution_count": 22,
   "id": "4c8ca1c2",
   "metadata": {
    "scrolled": true
   },
   "outputs": [
    {
     "name": "stdout",
     "output_type": "stream",
     "text": [
      "First: 700, second: 300\n",
      "Train: 1: 630, 2: 270\n",
      "Test: 1: 70, 2: 30\n",
      "q1 = 0.7, q2 = 0.30000000000000004\n"
     ]
    }
   ],
   "source": [
    "X = []\n",
    "Y = []\n",
    "with open(\"german.data-numeric\") as data:\n",
    "    for string in data:\n",
    "        string = string.split()\n",
    "        x, y = string[:-1], string[-1]\n",
    "        X.append(np.array(list(map(lambda elem: float(elem), x))))\n",
    "        Y.append(int(y))\n",
    "X = np.array(X)\n",
    "Y = np.array(Y)\n",
    "\n",
    "repo_research = RepoResearch(X, Y, 0.9)\n",
    "repo_research.calc_estimates()\n"
   ]
  },
  {
   "cell_type": "code",
   "execution_count": 23,
   "id": "65ca02c2",
   "metadata": {
    "scrolled": false
   },
   "outputs": [
    {
     "name": "stdout",
     "output_type": "stream",
     "text": [
      "Эмпирические вероятности ошибочной классификации: \n",
      "\tP(1|2) = 0.367, P(2|1) = 0.114\n"
     ]
    },
    {
     "data": {
      "image/png": "[encoded data removed]",
      "text/plain": [
       "<Figure size 432x432 with 2 Axes>"
      ]
     },
     "metadata": {
      "needs_background": "light"
     },
     "output_type": "display_data"
    }
   ],
   "source": [
    "predict = repo_research.predict(predict_test_set=True)\n",
    "\n",
    "cm = confusion_matrix(repo_research.test_trueY, predict)\n",
    "\n",
    "fig, ax = plt.subplots(1, 1, figsize=(6, 6))\n",
    "ConfusionMatrixDisplay(cm, display_labels=[\"1\", \"2\"]).plot(ax=ax)\n",
    "ax.set_title(\"Матрица сопряженности на тестовых данных\")\n",
    "fig.tight_layout()\n",
    "\n",
    "_, m21, m12, _ = cm.ravel()\n",
    "print(f\"Эмпирические вероятности ошибочной классификации: \\n\\tP(1|2) = {round(m12 / repo_research.test_n2, 3)}, P(2|1) = {round(m21 / repo_research.test_n1, 3)}\")"
   ]
  },
  {
   "cell_type": "code",
   "execution_count": 24,
   "id": "1f522cae",
   "metadata": {
    "scrolled": false
   },
   "outputs": [
    {
     "name": "stdout",
     "output_type": "stream",
     "text": [
      "Оценки вероятностей ошибочной классификации: \n",
      "\tP(1|2) = 0.47, P(2|1) = 0.114\n"
     ]
    },
    {
     "data": {
      "image/png": "[encoded data removed]",
      "text/plain": [
       "<Figure size 432x432 with 2 Axes>"
      ]
     },
     "metadata": {
      "needs_background": "light"
     },
     "output_type": "display_data"
    }
   ],
   "source": [
    "predict = repo_research.predict(predict_test_set=False)\n",
    "\n",
    "cm = confusion_matrix(repo_research.train_trueY, predict)\n",
    "\n",
    "fig, ax = plt.subplots(1, 1, figsize=(6, 6))\n",
    "ConfusionMatrixDisplay(cm, display_labels=[\"1\", \"2\"]).plot(ax=ax)\n",
    "ax.set_title(\"Матрица сопряженности на обучающих данных\")\n",
    "fig.tight_layout()\n",
    "\n",
    "_, m21, m12, _ = cm.ravel()\n",
    "print(f\"Оценки вероятностей ошибочной классификации: \\n\\tP(1|2) = {round(m12 / repo_research.train_n2, 3)}, P(2|1) = {round(m21 / repo_research.train_n1, 3)}\")"
   ]
  },
  {
   "cell_type": "code",
   "execution_count": 244,
   "id": "e1539d40",
   "metadata": {},
   "outputs": [
    {
     "name": "stdout",
     "output_type": "stream",
     "text": [
      "\tРасстояние Махаланобиса: 1.198\n",
      "\tОценки ошибочной классификации: P(1|2) = 0.543 \t P(2|1) = 0.096\n"
     ]
    }
   ],
   "source": [
    "makh = repo_research.makhalanobis(unbiased=True)\n",
    "errors = repo_research.calc_errors(makh)\n",
    "print(f\"\\tРасстояние Махаланобиса: {round(makh, 3)}\")\n",
    "print(f\"\\tОценки ошибочной классификации: P(1|2) = {round(errors['p12'], 3)} \\t P(2|1) = {round(errors['p21'], 3)}\")\n"
   ]
  },
  {
   "cell_type": "code",
   "execution_count": 220,
   "id": "27bbe79c",
   "metadata": {
    "scrolled": true
   },
   "outputs": [
    {
     "name": "stdout",
     "output_type": "stream",
     "text": [
      "[0.15874153711288633, 0.19971701119594854, 0.3134856014227221, 0.34111931231335124, 0.4986048928085151, 0.564554728495974, 0.6073869976775683, 0.6464332838976344, 0.7035193075808213, 0.7830943271579911, 0.8282149737749901, 0.860556678945047, 0.8898541814481615, 0.9464527905680706, 1.0105446317266957, 1.1214697322455403, 1.1597061906477908, 1.2152100601527107, 1.3214752099004294, 1.6321735680921894, 1.7039787259068833, 1.85393991601479, 2.1214765908001927, 2.5182897501131256]\n",
      "По правилу Кайзера:  10 [2.51828975 2.12147659 1.85393992 1.70397873 1.63217357 1.32147521\n",
      " 1.21521006 1.15970619 1.12146973 1.01054463] \n",
      "\n",
      "По правилу сломанной трости:  14 [(8, 1.3214752099004294), (11, 1.2152100601527107), (12, 1.1597061906477908), (13, 1.1214697322455403), (15, 0.564554728495974), (16, 0.6073869976775683), (17, 0.6464332838976344), (18, 0.7035193075808213), (19, 1.0105446317266957), (20, 0.9464527905680706), (21, 0.7830943271579911), (22, 0.8282149737749901), (23, 0.8898541814481615), (24, 0.860556678945047)]\n",
      "24.00000000000002\n",
      "10: [2.51828975 2.12147659 1.85393992 1.70397873 1.63217357 1.32147521\n",
      " 1.21521006 1.15970619 1.12146973 1.01054463]\n"
     ]
    }
   ],
   "source": [
    "X = []\n",
    "Y = []\n",
    "with open(\"german.data-numeric\") as data:\n",
    "    for string in data:\n",
    "        string = string.split()\n",
    "        x, y = string[:-1], string[-1]\n",
    "        X.append(np.array(list(map(lambda elem: float(elem), x))))\n",
    "        Y.append(int(y))\n",
    "X = np.array(X)\n",
    "Y = np.array(Y)\n",
    "\n",
    "mean = np.mean(X, axis=0)\n",
    "covariance = np.cov(X.T)\n",
    "X_centered = X - mean\n",
    "# X_stand = X_centered\n",
    "# X_stand = X\n",
    "\n",
    "X_stand = X_centered / np.sqrt(np.diagonal(covariance))\n",
    "\n",
    "covariance = np.cov(X_stand.T)\n",
    "\n",
    "\n",
    "# print(np.diagonal(covariance))\n",
    "# print(mean)\n",
    "# print(covariance)\n",
    "\n",
    "harmonic_number = lambda i, N: sum(map(lambda x: 1/x, range(i, N+1))) / N\n",
    "\n",
    "eiges = np.linalg.eig(covariance)\n",
    "\n",
    "values, vectors = eiges\n",
    "print(sorted(values))\n",
    "eiges = sorted(list(zip(values, vectors.T)), key=lambda x: x[0], reverse=True)\n",
    "\n",
    "val_mean = np.mean(values)\n",
    "normer = sum(values)\n",
    "otbor = values[values>val_mean]\n",
    "print('По правилу Кайзера: ', len(otbor), otbor, '\\n')\n",
    "\n",
    "size = len(values)\n",
    "\n",
    "trost = list(filter(lambda x: x[1] / normer > harmonic_number(x[0], size), zip(range(1, size+1), values)))\n",
    "print('По правилу сломанной трости: ', len(trost), trost)\n",
    "\n",
    "print(np.trace(covariance))\n",
    "great_vals = values[values > 1]\n",
    "print(f\"{len(great_vals)}: {great_vals}\")\n",
    "\n"
   ]
  },
  {
   "cell_type": "code",
   "execution_count": 237,
   "id": "a177659b",
   "metadata": {},
   "outputs": [],
   "source": [
    "# print(X[:3])\n",
    "# X_centered = X - mean\n",
    "# X_stand = X / np.sqrt(np.diagonal(covariance))\n",
    "transform_ = np.vstack(list([eiges[i][1] for i in range(10)]))\n",
    "X_new = X_stand @ transform_.T + mean @ transform_.T\n",
    "# print(X_centered[:3])"
   ]
  },
  {
   "cell_type": "code",
   "execution_count": 238,
   "id": "061df6fa",
   "metadata": {
    "scrolled": true
   },
   "outputs": [
    {
     "name": "stdout",
     "output_type": "stream",
     "text": [
      "[ 27.26398732 -13.04659315 -11.44741732 -17.23932215  -4.80834173\n",
      "   2.52072292  -1.59722678  -0.52908614   6.48095802 -14.12494639]\n"
     ]
    }
   ],
   "source": [
    "print(mean @ transform_.T)"
   ]
  },
  {
   "cell_type": "code",
   "execution_count": 239,
   "id": "e820e402",
   "metadata": {},
   "outputs": [
    {
     "name": "stdout",
     "output_type": "stream",
     "text": [
      "First: 700, second: 300\n",
      "Train: 1: 630, 2: 270\n",
      "Test: 1: 70, 2: 30\n",
      "q1 = 0.7, q2 = 0.30000000000000004\n"
     ]
    }
   ],
   "source": [
    "repo_research_PCA = RepoResearch(X_new, Y, 0.9)\n",
    "repo_research_PCA.calc_estimates()"
   ]
  },
  {
   "cell_type": "code",
   "execution_count": 243,
   "id": "795b70b8",
   "metadata": {},
   "outputs": [
    {
     "name": "stdout",
     "output_type": "stream",
     "text": [
      "Эмпирические вероятности ошибочной классификации: \n",
      "\tP(1|2) = 0.433, P(2|1) = 0.143\n"
     ]
    },
    {
     "data": {
      "image/png": "[encoded data removed]",
      "text/plain": [
       "<Figure size 432x432 with 2 Axes>"
      ]
     },
     "metadata": {
      "needs_background": "light"
     },
     "output_type": "display_data"
    }
   ],
   "source": [
    "predict = repo_research_PCA.predict(predict_test_set=True)\n",
    "\n",
    "cm = confusion_matrix(repo_research_PCA.test_trueY, predict)\n",
    "\n",
    "fig, ax = plt.subplots(1, 1, figsize=(6, 6))\n",
    "ConfusionMatrixDisplay(cm, display_labels=[\"1\", \"2\"]).plot(ax=ax)\n",
    "ax.set_title(\"Матрица сопряженности на тестовых данных\")\n",
    "fig.tight_layout()\n",
    "\n",
    "_, m21, m12, _ = cm.ravel()\n",
    "print(f\"Эмпирические вероятности ошибочной классификации: \\n\\tP(1|2) = {round(m12 / repo_research_PCA.test_n2, 3)}, P(2|1) = {round(m21 / repo_research_PCA.test_n1, 3)}\")"
   ]
  },
  {
   "cell_type": "code",
   "execution_count": 242,
   "id": "63c9dc09",
   "metadata": {
    "scrolled": false
   },
   "outputs": [
    {
     "name": "stdout",
     "output_type": "stream",
     "text": [
      "Оценки вероятностей ошибочной классификации: \n",
      "\tP(1|2) = 0.526, P(2|1) = 0.098\n"
     ]
    },
    {
     "data": {
      "image/png": "[encoded data removed]",
      "text/plain": [
       "<Figure size 432x432 with 2 Axes>"
      ]
     },
     "metadata": {
      "needs_background": "light"
     },
     "output_type": "display_data"
    }
   ],
   "source": [
    "predict = repo_research_PCA.predict(predict_test_set=False)\n",
    "\n",
    "cm = confusion_matrix(repo_research_PCA.train_trueY, predict)\n",
    "\n",
    "fig, ax = plt.subplots(1, 1, figsize=(6, 6))\n",
    "ConfusionMatrixDisplay(cm, display_labels=[\"1\", \"2\"]).plot(ax=ax)\n",
    "ax.set_title(\"Матрица сопряженности на обучающих данных\")\n",
    "fig.tight_layout()\n",
    "\n",
    "_, m21, m12, _ = cm.ravel()\n",
    "print(f\"Оценки вероятностей ошибочной классификации: \\n\\tP(1|2) = {round(m12 / repo_research_PCA.train_n2, 3)}, P(2|1) = {round(m21 / repo_research_PCA.train_n1, 3)}\")"
   ]
  },
  {
   "cell_type": "code",
   "execution_count": 245,
   "id": "0283238d",
   "metadata": {},
   "outputs": [
    {
     "name": "stdout",
     "output_type": "stream",
     "text": [
      "\tРасстояние Махаланобиса: 1.14\n",
      "\tОценки ошибочной классификации: P(1|2) = 0.569 \t P(2|1) = 0.095\n"
     ]
    }
   ],
   "source": [
    "makh = repo_research_PCA.makhalanobis(unbiased=True)\n",
    "errors = repo_research_PCA.calc_errors(makh)\n",
    "print(f\"\\tРасстояние Махаланобиса: {round(makh, 3)}\")\n",
    "print(f\"\\tОценки ошибочной классификации: P(1|2) = {round(errors['p12'], 3)} \\t P(2|1) = {round(errors['p21'], 3)}\")"
   ]
  },
  {
   "cell_type": "code",
   "execution_count": 10,
   "id": "e5d51a36",
   "metadata": {},
   "outputs": [
    {
     "name": "stdout",
     "output_type": "stream",
     "text": [
      "First: 700, second: 300\n",
      "Train: 1: 560, 2: 240\n",
      "Test: 1: 140, 2: 60\n",
      "q1 = 0.7, q2 = 0.30000000000000004\n",
      "200\n",
      "200\n"
     ]
    }
   ],
   "source": [
    "from sklearn.decomposition import PCA\n",
    "pca = PCA(n_components = 2)\n",
    "XPCAreduced = pca.fit_transform(X)\n",
    "\n",
    "print(XP)\n",
    "\n",
    "repo_research_PCA_2 = RepoResearch(XPCAreduced, Y, 0.8)\n",
    "repo_research_PCA_2.calc_estimates()\n",
    "\n",
    "predict = repo_research_PCA_2.predict(predict_test_set=True)\n",
    "\n",
    "print(len(predict))\n",
    "print(len(repo_research_PCA_2.test_trueY))"
   ]
  },
  {
   "cell_type": "code",
   "execution_count": 11,
   "id": "2fb265ff",
   "metadata": {},
   "outputs": [
    {
     "name": "stdout",
     "output_type": "stream",
     "text": [
      "Эмпирические вероятности ошибочной классификации: \n",
      "\tP(1|2) = 0.883, P(2|1) = 0.021\n"
     ]
    },
    {
     "data": {
      "image/png": "[encoded data removed]",
      "text/plain": [
       "<Figure size 432x432 with 2 Axes>"
      ]
     },
     "metadata": {
      "needs_background": "light"
     },
     "output_type": "display_data"
    }
   ],
   "source": [
    "cm = confusion_matrix(repo_research_PCA_2.test_trueY, predict)\n",
    "\n",
    "fig, ax = plt.subplots(1, 1, figsize=(6, 6))\n",
    "ConfusionMatrixDisplay(cm, display_labels=[\"1\", \"2\"]).plot(ax=ax)\n",
    "ax.set_title(\"Матрица сопряженности на тестовых данных\")\n",
    "fig.tight_layout()\n",
    "\n",
    "_, m21, m12, _ = cm.ravel()\n",
    "print(f\"Эмпирические вероятности ошибочной классификации: \\n\\tP(1|2) = {round(m12 / repo_research_PCA_2.test_n2, 3)}, P(2|1) = {round(m21 / repo_research_PCA_2.test_n1, 3)}\")"
   ]
  },
  {
   "cell_type": "code",
   "execution_count": null,
   "id": "1c66aa54",
   "metadata": {},
   "outputs": [],
   "source": [
    "h = 10"
   ]
  },
  {
   "cell_type": "markdown",
   "id": "18b1c0e2",
   "metadata": {
    "variables": {
     "h": "<p><strong>NameError</strong>: name &#39;h&#39; is not defined</p>\n"
    }
   },
   "source": [
    "| True\\Predict | 1  | 2  |\n",
    "| :---:        | :---: | :----: |\n",
    "| 1    | {{h}} | 283    |\n",
    "| 2   | {{h}} | 283    |"
   ]
  },
  {
   "cell_type": "markdown",
   "id": "6b05e7b2",
   "metadata": {},
   "source": [
    "$\\gamma=10$\n",
    "\n",
    "$$\\alpha=12$$"
   ]
  },
  {
   "cell_type": "code",
   "execution_count": null,
   "id": "88382eb3",
   "metadata": {},
   "outputs": [],
   "source": []
  }
 ],
 "metadata": {
  "kernelspec": {
   "display_name": "Python 3",
   "language": "python",
   "name": "python3"
  },
  "language_info": {
   "codemirror_mode": {
    "name": "ipython",
    "version": 3
   },
   "file_extension": ".py",
   "mimetype": "text/x-python",
   "name": "python",
   "nbconvert_exporter": "python",
   "pygments_lexer": "ipython3",
   "version": "3.8.2"
  },
  "latex_envs": {
   "LaTeX_envs_menu_present": true,
   "autoclose": false,
   "autocomplete": true,
   "bibliofile": "biblio.bib",
   "cite_by": "apalike",
   "current_citInitial": 1,
   "eqLabelWithNumbers": true,
   "eqNumInitial": 1,
   "hotkeys": {
    "equation": "Ctrl-E",
    "itemize": "Ctrl-I"
   },
   "labels_anchors": false,
   "latex_user_defs": false,
   "report_style_numbering": false,
   "user_envs_cfg": false
  }
 },
 "nbformat": 4,
 "nbformat_minor": 5
}
