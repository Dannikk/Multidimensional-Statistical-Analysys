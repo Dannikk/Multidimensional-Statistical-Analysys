{
 "cells": [
  {
   "cell_type": "code",
   "execution_count": 4,
   "id": "533685a9",
   "metadata": {},
   "outputs": [],
   "source": [
    "import numpy as np\n",
    "from matplotlib import pyplot as plt\n",
    "from pandas import DataFrame as df\n",
    "from itertools import combinations_with_replacement\n",
    "from scipy.optimize import Bounds, minimize, LinearConstraint\n",
    "# from numba import njit\n",
    "from time import perf_counter\n",
    "from cvxopt import matrix, solvers\n",
    "from cvxopt.solvers import qp as QP"
   ]
  },
  {
   "cell_type": "markdown",
   "id": "45d7b4b2",
   "metadata": {},
   "source": [
    "q - параметр гауссовского ядра\n",
    "$p = \\cfrac{1}{n\\cdot C}$ - верхняя граница доли связанных опорных векторов\n",
    "n - объем выборки\n",
    "\n",
    "С - штрафной параметр в задаче квадратического программирования\n",
    "\n",
    "Внешние и внутренные (более интересен) критерии\n",
    "\n",
    "Числа опорных и связанных опорных векторов не должны быть большими (большое число связанных опорных векторов означает, что данные сильно перекрываются)"
   ]
  },
  {
   "cell_type": "code",
   "execution_count": 5,
   "id": "e26b26b1",
   "metadata": {},
   "outputs": [],
   "source": [
    "N = 1000\n",
    "q_list = np.linspace(0, 1, 10)\n",
    "p_list = np.linspace(1 / N, 1, 10)\n",
    "revert2c = lambda n_, p_:  1 / (n_*p_)\n",
    "c_list = map(lambda p_: revert2c(N, p_), p_list)"
   ]
  },
  {
   "cell_type": "code",
   "execution_count": 17,
   "id": "0c3c3873",
   "metadata": {},
   "outputs": [
    {
     "name": "stdout",
     "output_type": "stream",
     "text": [
      "[0 0 0 0 0 0 0 0 0 0 0 0 0 0 0 0 0 0 0 0 0 0 0 0 0 0 0 0 0 0 1 1 1 1 1 1 1\n",
      " 1 1 1 1 1 1 1 1 1 1 1 1 1 1 1 1 1 1 1 1 1 1 1 2 2 2 2 2 2 2 2 2 2 2 2 2 2\n",
      " 2]\n"
     ]
    }
   ],
   "source": [
    "np.random.seed(123)\n",
    "\n",
    "# cluster_1 = np.random.uniform(-2, 2, (100, 2))\n",
    "cluster_1 = np.random.multivariate_normal([0, 0], [[0.5, 0.2], [0.2, 0.6]], size=30)\n",
    "\n",
    "\n",
    "cluster_2_phi = np.random.uniform(0, np.pi / 2, 30)\n",
    "cluster_2_r = np.random.uniform(5, 6, 30)\n",
    "cluster_2_x, cluster_2_y = cluster_2_r * np.cos(cluster_2_phi), cluster_2_r * np.sin(cluster_2_phi)\n",
    "cluster_2 = np.vstack([cluster_2_x, cluster_2_y]).transpose(1, 0)\n",
    "\n",
    "noise = np.random.uniform(-2, 5, (15, 2))\n",
    "\n",
    "clusters_good = np.vstack([cluster_1, cluster_2, noise])\n",
    "labels_good = np.hstack([np.full(len(cluster_1), 0), np.full(len(cluster_2), 1), np.full(15, 2)])\n",
    "print(labels_good)"
   ]
  },
  {
   "cell_type": "code",
   "execution_count": 18,
   "id": "c0c1e583",
   "metadata": {},
   "outputs": [
    {
     "data": {
      "image/png": "[encoded data removed]",
      "text/plain": [
       "<Figure size 432x288 with 1 Axes>"
      ]
     },
     "metadata": {
      "needs_background": "light"
     },
     "output_type": "display_data"
    }
   ],
   "source": [
    "plt.scatter(clusters_good[:,0], clusters_good[:,1], c=labels_good)\n",
    "plt.show()"
   ]
  },
  {
   "cell_type": "code",
   "execution_count": 34,
   "id": "f363d4c6",
   "metadata": {},
   "outputs": [
    {
     "ename": "IndentationError",
     "evalue": "expected an indented block (<ipython-input-34-2a4583cf13ae>, line 54)",
     "output_type": "error",
     "traceback": [
      "\u001b[1;36m  File \u001b[1;32m\"<ipython-input-34-2a4583cf13ae>\"\u001b[1;36m, line \u001b[1;32m54\u001b[0m\n\u001b[1;33m    def mark_clusters(self):\u001b[0m\n\u001b[1;37m    ^\u001b[0m\n\u001b[1;31mIndentationError\u001b[0m\u001b[1;31m:\u001b[0m expected an indented block\n"
     ]
    }
   ],
   "source": [
    "def is_zero(x):\n",
    "    return np.abs(x) < 10**(-3)\n",
    "\n",
    "class Clusterizator:\n",
    "    def __init__(self, sample, true_labels):\n",
    "        self.sample = sample\n",
    "        self.true_labels = true_labels\n",
    "        self.N = len(true_labels)\n",
    "        \n",
    "    def _get_lagrangian(self, q: float):\n",
    "        self.k = lambda x1, x2: self.kernel_general(q, x1, x2)\n",
    "        start = perf_counter()\n",
    "        F_values = np.empty((self.N, self.N))\n",
    "        for i in range(self.N):\n",
    "            for j in range(i, self.N):\n",
    "                F_values[i,j] = F_values[j, i] = self.k(self.sample[i], self.sample[j])\n",
    "\n",
    "#         @njit(fastmath=True, cache=True, parallel=True)\n",
    "        def lagr(mu: np.array):\n",
    "            Sum = mu @ F_values @ mu\n",
    "            return Sum\n",
    "            \n",
    "        return lagr\n",
    "        \n",
    "    def kernel_general(self, q, x1: np.array, x2: np.array):\n",
    "        return np.exp(-q*(np.linalg.norm(x1 - x2))**2)\n",
    "    \n",
    "    def minimize_lagrangian(self, q: float, C: float, disp_solving: bool = False):\n",
    "        lagrangian = self._get_lagrangian(q)\n",
    "        \n",
    "        bnds = Bounds(np.zeros(self.N), np.full(self.N, C))\n",
    "        linear_constraint = LinearConstraint(np.array([np.ones(self.N)]), [1], [1])\n",
    "#         eq_cons = {'type': 'eq',\n",
    "#                       'fun': lambda x: sum(x) - 1,\n",
    "#                       'jac': lambda x: np.ones(self.N)}\n",
    "        \n",
    "        x0 = np.linspace(1, 4, self.N)\n",
    "        x0 = x0 / sum(x0)\n",
    "        res = minimize(lagrangian, x0, method='SLSQP', constraints=[linear_constraint], options={'ftol': 1e-9, 'disp': disp_solving}, \n",
    "                       bounds=bnds)\n",
    "        return res.x\n",
    "    \n",
    "    def get_ro(self, q, mu_list, x):\n",
    "        self.k = lambda x1, x2: self.kernel_general(q, x1, x2)\n",
    "        ro = 0\n",
    "        for mu, x_i in zip(mu_list, self.sample):\n",
    "            ro += mu*self.k(x_i, x)\n",
    "        return ro\n",
    "    \n",
    "    def get_naming_list(self, mu_list, C):\n",
    "        labels = []\n",
    "        for mu in zip(mu_list):\n",
    "            if (C - mu) <= eps:\n",
    "                labels.append(0)\n",
    "            elif (eps <= ans) & (ans < (C-eps)):\n",
    "                labels.append(1)\n",
    "            elif ans < eps:\n",
    "                labels.append(2)\n",
    "        return np.array(labels)\n",
    "    \n",
    "    def mark_clusters(self):\n",
    "        ...\n",
    "        \n",
    "    def rate(self):\n",
    "        ...\n",
    "        \n",
    "    def opt_cvxpt(self):\n",
    "        self.k = lambda x1, x2: self.kernel_general(q, x1, x2)\n",
    "        F_values = np.empty((self.N, self.N))\n",
    "        for i in range(self.N):\n",
    "            for j in range(i, self.N):\n",
    "                F_values[i,j] = F_values[j, i] = self.k(self.sample[i], self.sample[j])\n",
    "                \n",
    "        Q = 2*matrix(F_values)\n",
    "        p = matrix(np.zeros(self.N))\n",
    "        G = matrix([[-1.0,0.0],[0.0,-1.0]])\n",
    "        h = matrix([0.0,0.0])\n",
    "        A = matrix(np.ones(self.N), (1,self.N))\n",
    "        b = matrix(1.0)\n",
    "        sol=solvers.qp(Q, p, G, h, A, b)"
   ]
  },
  {
   "cell_type": "code",
   "execution_count": 20,
   "id": "220b53e1",
   "metadata": {},
   "outputs": [],
   "source": [
    "cls_good = Clusterizator(clusters_good, labels_good)"
   ]
  },
  {
   "cell_type": "code",
   "execution_count": null,
   "id": "fa52c894",
   "metadata": {},
   "outputs": [],
   "source": []
  },
  {
   "cell_type": "code",
   "execution_count": 33,
   "id": "e06e1648",
   "metadata": {},
   "outputs": [
    {
     "name": "stdout",
     "output_type": "stream",
     "text": [
      "Optimization terminated successfully    (Exit mode 0)\n",
      "            Current function value: 0.08641551375008506\n",
      "            Iterations: 27\n",
      "            Function evaluations: 2059\n",
      "            Gradient evaluations: 27\n",
      "time: 0.2373768000002201\n",
      "sum:  1.0000000000000004\n",
      "val:  0.08641551375008506\n",
      "constr:  True\n",
      "bsvs:  9\n",
      "svs:  19\n",
      "oth:  47\n"
     ]
    },
    {
     "data": {
      "image/png": "[encoded data removed]",
      "text/plain": [
       "<Figure size 432x288 with 1 Axes>"
      ]
     },
     "metadata": {
      "needs_background": "light"
     },
     "output_type": "display_data"
    },
    {
     "name": "stdout",
     "output_type": "stream",
     "text": [
      "Wall time: 523 ms\n"
     ]
    }
   ],
   "source": [
    "%%time\n",
    "\n",
    "q = 0.5\n",
    "C = 0.5\n",
    "eps = 10**(-3)\n",
    "# ans = cls_good.minimize_lagrangian(q, C)\n",
    "# print(sum(ans))\n",
    "# ll = cls_good._get_lagrangian(q)\n",
    "# print(ll(ans))\n",
    "# print(ans)\n",
    "ll = cls_good._get_lagrangian(q)\n",
    "# vals = []\n",
    "# for c in np.linspace(1/200, 1, 10):\n",
    "#     ans = cls_good.minimize_lagrangian(q, c)\n",
    "#     print(\"sum: \", sum(ans))\n",
    "#     print('val: ', ll(ans))\n",
    "#     vals.append([c, ll(ans)])\n",
    "#     print('constr: ', np.all(ans <= c))\n",
    "#     print(\"bsvs: \", sum(np.abs(ans-c) < eps))\n",
    "#     print(\"svs: \", sum(np.where((ans > eps) & (ans < (c-eps)), 1, 0)))\n",
    "#     print('oth: ', sum(ans < eps))\n",
    "# #     print(c, ans)\n",
    "# vals = np.array(vals)\n",
    "# plt.scatter(vals[:, 0], vals[:,1])\n",
    "# plt.grid()\n",
    "# plt.show()\n",
    "\n",
    "C = 0.05\n",
    "start = perf_counter()\n",
    "ans = cls_good.minimize_lagrangian(q, C, True)\n",
    "end = perf_counter()\n",
    "print(f\"time: {end - start}\")\n",
    "print(\"sum: \", sum(ans))\n",
    "print('val: ', ll(ans))\n",
    "print('constr: ', np.all(ans <= C))\n",
    "print(\"bsvs: \", sum(np.abs(ans-C) < eps))\n",
    "print(\"svs: \", sum(np.where((ans > eps) & (ans < (C-eps)), 1, 0)))\n",
    "print('oth: ', sum(ans < eps))\n",
    "\n",
    "oth = ans < eps\n",
    "\n",
    "plt.scatter(clusters_good[:,0], clusters_good[:,1], c=oth)\n",
    "plt.show()"
   ]
  },
  {
   "cell_type": "code",
   "execution_count": 26,
   "id": "55cd8864",
   "metadata": {},
   "outputs": [
    {
     "name": "stdout",
     "output_type": "stream",
     "text": [
      "___ 2.0611536224385504e-09\n",
      "[[1. 1. 1. 1.]]\n",
      "[0.08333333 0.19444444 0.30555556 0.41666667]\n",
      "Optimization terminated successfully    (Exit mode 0)\n",
      "            Current function value: -0.7499914875374205\n",
      "            Iterations: 2\n",
      "            Function evaluations: 11\n",
      "            Gradient evaluations: 2\n"
     ]
    }
   ],
   "source": [
    "x = np.array(range(1, 5))\n",
    "C = 0.7\n",
    "q = 10\n",
    "k = lambda x1, x2: np.exp(-q*(np.linalg.norm(x1 - x2))**2)\n",
    "x1 = np.array([1, 2])\n",
    "x2 = np.array([2, 3])\n",
    "print(\"___\", k(x1, x2))\n",
    "\n",
    "def tfun(mu: np.array):\n",
    "    F_values = np.array([k(x_11, x_22) for x_11, x_22 in combinations_with_replacement(x, 2)])\n",
    "    Sum = sum(mu) - sum(map(lambda x_: x_[0][0]*x_[0][1]*x_[1], \n",
    "                                    zip(combinations_with_replacement(mu, 2), F_values)))\n",
    "    return -Sum\n",
    "\n",
    "print(np.array([np.ones(len(x))]))\n",
    "\n",
    "bnds = Bounds(np.zeros(len(x)), np.full(len(x), C))\n",
    "linear_constraint = LinearConstraint(np.array([np.ones(len(x))]), [1], [1])\n",
    "x0 = np.linspace(1, 5, len(x))\n",
    "x0 = x0 / sum(x0)\n",
    "print(x0)\n",
    "res = minimize(tfun, x0, method='SLSQP', constraints=[linear_constraint], options={'ftol': 1e-9, 'disp': True},\n",
    "               bounds=bnds)"
   ]
  },
  {
   "cell_type": "code",
   "execution_count": 138,
   "id": "3fe2c0e8",
   "metadata": {},
   "outputs": [
    {
     "name": "stdout",
     "output_type": "stream",
     "text": [
      "[0.25000221 0.24999905 0.24999527 0.25000347]\n"
     ]
    }
   ],
   "source": [
    "print(res.x)"
   ]
  },
  {
   "cell_type": "code",
   "execution_count": 26,
   "id": "ece6babf",
   "metadata": {},
   "outputs": [
    {
     "name": "stdout",
     "output_type": "stream",
     "text": [
      "0 0\n",
      "0 1\n",
      "0 2\n",
      "1 1\n",
      "1 2\n",
      "2 2\n"
     ]
    }
   ],
   "source": []
  },
  {
   "cell_type": "code",
   "execution_count": 27,
   "id": "695f37b5",
   "metadata": {},
   "outputs": [],
   "source": []
  },
  {
   "cell_type": "code",
   "execution_count": 28,
   "id": "3555c870",
   "metadata": {},
   "outputs": [
    {
     "name": "stdout",
     "output_type": "stream",
     "text": [
      "5 5\n"
     ]
    }
   ],
   "source": []
  },
  {
   "cell_type": "code",
   "execution_count": null,
   "id": "67058187",
   "metadata": {},
   "outputs": [],
   "source": []
  }
 ],
 "metadata": {
  "kernelspec": {
   "display_name": "Python 3",
   "language": "python",
   "name": "python3"
  },
  "language_info": {
   "codemirror_mode": {
    "name": "ipython",
    "version": 3
   },
   "file_extension": ".py",
   "mimetype": "text/x-python",
   "name": "python",
   "nbconvert_exporter": "python",
   "pygments_lexer": "ipython3",
   "version": "3.8.2"
  },
  "latex_envs": {
   "LaTeX_envs_menu_present": true,
   "autoclose": false,
   "autocomplete": true,
   "bibliofile": "biblio.bib",
   "cite_by": "apalike",
   "current_citInitial": 1,
   "eqLabelWithNumbers": true,
   "eqNumInitial": 1,
   "hotkeys": {
    "equation": "Ctrl-E",
    "itemize": "Ctrl-I"
   },
   "labels_anchors": false,
   "latex_user_defs": false,
   "report_style_numbering": false,
   "user_envs_cfg": false
  }
 },
 "nbformat": 4,
 "nbformat_minor": 5
}
