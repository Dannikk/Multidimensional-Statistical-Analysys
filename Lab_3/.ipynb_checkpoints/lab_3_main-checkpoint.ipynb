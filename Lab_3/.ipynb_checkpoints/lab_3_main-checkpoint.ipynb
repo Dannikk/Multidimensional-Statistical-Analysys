{
 "cells": [
  {
   "cell_type": "code",
   "execution_count": 3,
   "id": "533685a9",
   "metadata": {},
   "outputs": [],
   "source": [
    "import numpy as np\n",
    "from matplotlib import pyplot as plt\n",
    "from pandas import DataFrame as df"
   ]
  },
  {
   "cell_type": "markdown",
   "id": "45d7b4b2",
   "metadata": {},
   "source": [
    "q - параметр гауссовского ядра\n",
    "$p = \\cfrac{1}{n\\cdot C}$ - верхняя граница доли свзяанных опорных векторов\n",
    "n - объем выборки\n",
    "\n",
    "С - штрафной параметр в задаче квадратического программирования\n",
    "\n",
    "Внешние и внутренные (более интересен) критерии\n",
    "\n",
    "Числа опорных и связанных опорных векторов не должны быть большими (большое число связанных опорных векторов означает, что данные сильно перекрываются)"
   ]
  },
  {
   "cell_type": "code",
   "execution_count": null,
   "id": "e26b26b1",
   "metadata": {},
   "outputs": [],
   "source": [
    "N = 1000\n",
    "q = np.linspace(0, 1, 10)\n",
    "p = np.linspace(10**(-15), 1, 10)\n",
    "revert2c = lambda n_, p_:  1 / (n_*p_)\n",
    "c = map(lambda p_: revert2c(N, p_), p)"
   ]
  }
 ],
 "metadata": {
  "kernelspec": {
   "display_name": "Python 3",
   "language": "python",
   "name": "python3"
  },
  "language_info": {
   "codemirror_mode": {
    "name": "ipython",
    "version": 3
   },
   "file_extension": ".py",
   "mimetype": "text/x-python",
   "name": "python",
   "nbconvert_exporter": "python",
   "pygments_lexer": "ipython3",
   "version": "3.8.2"
  },
  "latex_envs": {
   "LaTeX_envs_menu_present": true,
   "autoclose": false,
   "autocomplete": true,
   "bibliofile": "biblio.bib",
   "cite_by": "apalike",
   "current_citInitial": 1,
   "eqLabelWithNumbers": true,
   "eqNumInitial": 1,
   "hotkeys": {
    "equation": "Ctrl-E",
    "itemize": "Ctrl-I"
   },
   "labels_anchors": false,
   "latex_user_defs": false,
   "report_style_numbering": false,
   "user_envs_cfg": false
  }
 },
 "nbformat": 4,
 "nbformat_minor": 5
}
